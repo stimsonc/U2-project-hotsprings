{
  "nbformat": 4,
  "nbformat_minor": 0,
  "metadata": {
    "colab": {
      "name": "U2_Build_Linear_Model.ipynb",
      "provenance": [],
      "collapsed_sections": []
    },
    "kernelspec": {
      "display_name": "Python 3",
      "language": "python",
      "name": "python3"
    },
    "language_info": {
      "codemirror_mode": {
        "name": "ipython",
        "version": 3
      },
      "file_extension": ".py",
      "mimetype": "text/x-python",
      "name": "python",
      "nbconvert_exporter": "python",
      "pygments_lexer": "ipython3",
      "version": "3.7.6"
    }
  },
  "cells": [
    {
      "cell_type": "code",
      "metadata": {
        "id": "Cu7-iaqqAXpa"
      },
      "source": [
        "import pandas as pd\n",
        "import matplotlib.pyplot as plt\n",
        "from sklearn.linear_model import LinearRegression\n",
        "from sklearn.model_selection import train_test_split\n",
        "from sklearn.feature_selection import SelectKBest, f_regression\n",
        "from joblib import dump\n",
        "from google.colab import files\n",
        "import joblib\n",
        "import sklearn\n",
        "import plotly.express as px\n",
        "import numpy as np"
      ],
      "execution_count": null,
      "outputs": []
    },
    {
      "cell_type": "markdown",
      "metadata": {
        "id": "1_nNOkTS5202"
      },
      "source": [
        "**Step 1.** Load dataset\n",
        "\n",
        "Note: The 'census.csv' file was created using [U2_Build_Data_Cleaning.ipynb](https://colab.research.google.com/drive/1N_smUCm3c5zPi4yUCYwDkZpK2kq-FtJF?usp=sharing)."
      ]
    },
    {
      "cell_type": "code",
      "metadata": {
        "id": "Jl-iIV66E51f"
      },
      "source": [
        "# Load census dataset\n",
        "file = '/content/census.csv'\n",
        "census = pd.read_csv(file)"
      ],
      "execution_count": null,
      "outputs": []
    },
    {
      "cell_type": "markdown",
      "metadata": {
        "id": "tepAt42zKHhj"
      },
      "source": [
        "Step 2: Feature engineering\n"
      ]
    },
    {
      "cell_type": "code",
      "metadata": {
        "id": "AvW_iFMoKRtL"
      },
      "source": [
        "# Total minority population of county (%)\n",
        "census['Minority_pop'] = (census['Black'] + census['Hispanic'] + census['Asian'] + census['Native'] + census['Pacific'])"
      ],
      "execution_count": null,
      "outputs": []
    },
    {
      "cell_type": "code",
      "metadata": {
        "id": "pF7StQc_OYSX"
      },
      "source": [
        ""
      ],
      "execution_count": null,
      "outputs": []
    },
    {
      "cell_type": "code",
      "metadata": {
        "id": "59UrcSJIKRrQ"
      },
      "source": [
        "# Top features in decision tree after permutation OLD\n",
        "#['Hispanic', 'Black', 'IncomePerCap', 'Drive', 'MeanCommute', 'PublicWork']"
      ],
      "execution_count": null,
      "outputs": []
    },
    {
      "cell_type": "markdown",
      "metadata": {
        "id": "FHNn111iObTy"
      },
      "source": [
        "Step 3: Linear regression model for distance to closest spring from county population center"
      ]
    },
    {
      "cell_type": "code",
      "metadata": {
        "id": "ZQiyPppdLP50"
      },
      "source": [
        "# Train, val, test split\n",
        "target = 'closest_spring'\n",
        "features = census.columns.drop([target, 'CountyId', 'State', 'County', 'Latitude', 'Longitude', 'has_spring', 'coordinates', 'to_spring_cat'])\n",
        "\n",
        "X = census[features]\n",
        "y = census[target]\n",
        "\n",
        "# Split off test set\n",
        "X_train, X_test, y_train, y_test = train_test_split(X, y, test_size=0.2, random_state=1)\n",
        "# Split off validation set\n",
        "X_train, X_val, y_train, y_val = train_test_split(X_train, y_train, test_size=0.25, random_state=1)"
      ],
      "execution_count": null,
      "outputs": []
    },
    {
      "cell_type": "code",
      "metadata": {
        "colab": {
          "base_uri": "https://localhost:8080/"
        },
        "id": "BGybwRFDK0_L",
        "outputId": "07613028-15b4-4ebc-8f01-bb474fd81a3f"
      },
      "source": [
        "# Fit model, get R2 score\n",
        "lin_model = LinearRegression()\n",
        "lin_model.fit(X_train,y_train)\n",
        "print(f'Linear regression R2 (training set): {round(lin_model.score(X_train,y_train), 4)}')\n",
        "print(f'Linear regression R2 (validation set): {round(lin_model.score(X_val,y_val), 4)}')"
      ],
      "execution_count": null,
      "outputs": [
        {
          "output_type": "stream",
          "text": [
            "Linear regression R2 (training set): 0.226\n",
            "Linear regression R2 (validation set): 0.1854\n"
          ],
          "name": "stdout"
        }
      ]
    },
    {
      "cell_type": "code",
      "metadata": {
        "colab": {
          "base_uri": "https://localhost:8080/"
        },
        "id": "hpQ2CmTGpIKK",
        "outputId": "78c9560c-2601-4e12-d41b-b99461379330"
      },
      "source": [
        "# Mean absolute error\n",
        "from sklearn.metrics import mean_absolute_error\n",
        "pred = lin_model.predict(X_val)\n",
        "true = y_val\n",
        "print('mean absolute error', mean_absolute_error(true, pred))"
      ],
      "execution_count": null,
      "outputs": [
        {
          "output_type": "stream",
          "text": [
            "mean absolute error 101.51890106431814\n"
          ],
          "name": "stdout"
        }
      ]
    },
    {
      "cell_type": "code",
      "metadata": {
        "colab": {
          "base_uri": "https://localhost:8080/"
        },
        "id": "YnWFN_CkK086",
        "outputId": "e82b44dc-8d47-4111-90e4-93e1adfd40ab"
      },
      "source": [
        "# Select K best\n",
        "k=17\n",
        "Kbest = SelectKBest(score_func=f_regression, k=k)\n",
        "Kbest.fit(X_train, y_train)\n",
        "X_train_kbest = Kbest.transform(X_train)\n",
        "X_val_kbest = Kbest.transform(X_val)\n",
        "X_test_kbest = Kbest.transform(X_test)\n",
        "\n",
        "kbest_model = LinearRegression()\n",
        "kbest_model.fit(X_train_kbest, y_train)\n",
        "print(f'Linear regression R2 (training set): {round(kbest_model.score(X_train_kbest,y_train), 4)}')\n",
        "print(f'Linear regression R2 (validation set): {round(kbest_model.score(X_val_kbest,y_val), 4)}')\n",
        "\n",
        "pred = kbest_model.predict(X_val_kbest)\n",
        "true = y_val\n",
        "print('mean absolute error', mean_absolute_error(true, pred))"
      ],
      "execution_count": null,
      "outputs": [
        {
          "output_type": "stream",
          "text": [
            "Linear regression R2 (training set): 0.2058\n",
            "Linear regression R2 (validation set): 0.1864\n",
            "mean absolute error 100.99097010903917\n"
          ],
          "name": "stdout"
        }
      ]
    },
    {
      "cell_type": "code",
      "metadata": {
        "id": "eLjDtDD9K04Z",
        "colab": {
          "base_uri": "https://localhost:8080/"
        },
        "outputId": "6bc0339d-8a7d-4356-eb88-eba7f5fc0490"
      },
      "source": [
        "# Get dataframe with k selected features\n",
        "cols = Kbest.get_support(indices=True)\n",
        "X_KbestFeatures = X.iloc[:,cols]\n",
        "Kbest_cols = list(X_KbestFeatures.columns)\n",
        "Kbest_cols"
      ],
      "execution_count": null,
      "outputs": [
        {
          "output_type": "execute_result",
          "data": {
            "text/plain": [
              "['Hispanic',\n",
              " 'White',\n",
              " 'Black',\n",
              " 'Pacific',\n",
              " 'Poverty',\n",
              " 'ChildPoverty',\n",
              " 'Service',\n",
              " 'Production',\n",
              " 'Drive',\n",
              " 'Carpool',\n",
              " 'Transit',\n",
              " 'OtherTransp',\n",
              " 'MeanCommute',\n",
              " 'PrivateWork',\n",
              " 'PublicWork',\n",
              " 'Unemployment',\n",
              " 'Minority_pop']"
            ]
          },
          "metadata": {
            "tags": []
          },
          "execution_count": 57
        }
      ]
    },
    {
      "cell_type": "markdown",
      "metadata": {
        "id": "VE2_YLFvrlwv"
      },
      "source": [
        "Step 4: Export model for Dash app"
      ]
    },
    {
      "cell_type": "code",
      "metadata": {
        "colab": {
          "base_uri": "https://localhost:8080/"
        },
        "id": "UUQEqI4Zr9IE",
        "outputId": "254d64ab-d324-4b72-a203-12d5adbc31ff"
      },
      "source": [
        "# Pickle model\n",
        "dump(kbest_model, 'kbest.joblib', compress=True)\n",
        "# Get versions\n",
        "print(f'joblib=={joblib.__version__}')\n",
        "print(f'scikit-learn=={sklearn.__version__}')"
      ],
      "execution_count": null,
      "outputs": [
        {
          "output_type": "stream",
          "text": [
            "joblib==1.0.1\n",
            "scikit-learn==0.22.2.post1\n"
          ],
          "name": "stdout"
        }
      ]
    },
    {
      "cell_type": "code",
      "metadata": {
        "id": "_Zj2xSO9r9BZ",
        "colab": {
          "base_uri": "https://localhost:8080/",
          "height": 17
        },
        "outputId": "d0ac2ab7-1027-408b-befa-53ae5cbed6d2"
      },
      "source": [
        "files.download('kbest.joblib') "
      ],
      "execution_count": null,
      "outputs": [
        {
          "output_type": "display_data",
          "data": {
            "application/javascript": [
              "\n",
              "    async function download(id, filename, size) {\n",
              "      if (!google.colab.kernel.accessAllowed) {\n",
              "        return;\n",
              "      }\n",
              "      const div = document.createElement('div');\n",
              "      const label = document.createElement('label');\n",
              "      label.textContent = `Downloading \"${filename}\": `;\n",
              "      div.appendChild(label);\n",
              "      const progress = document.createElement('progress');\n",
              "      progress.max = size;\n",
              "      div.appendChild(progress);\n",
              "      document.body.appendChild(div);\n",
              "\n",
              "      const buffers = [];\n",
              "      let downloaded = 0;\n",
              "\n",
              "      const channel = await google.colab.kernel.comms.open(id);\n",
              "      // Send a message to notify the kernel that we're ready.\n",
              "      channel.send({})\n",
              "\n",
              "      for await (const message of channel.messages) {\n",
              "        // Send a message to notify the kernel that we're ready.\n",
              "        channel.send({})\n",
              "        if (message.buffers) {\n",
              "          for (const buffer of message.buffers) {\n",
              "            buffers.push(buffer);\n",
              "            downloaded += buffer.byteLength;\n",
              "            progress.value = downloaded;\n",
              "          }\n",
              "        }\n",
              "      }\n",
              "      const blob = new Blob(buffers, {type: 'application/binary'});\n",
              "      const a = document.createElement('a');\n",
              "      a.href = window.URL.createObjectURL(blob);\n",
              "      a.download = filename;\n",
              "      div.appendChild(a);\n",
              "      a.click();\n",
              "      div.remove();\n",
              "    }\n",
              "  "
            ],
            "text/plain": [
              "<IPython.core.display.Javascript object>"
            ]
          },
          "metadata": {
            "tags": []
          }
        },
        {
          "output_type": "display_data",
          "data": {
            "application/javascript": [
              "download(\"download_6f211ab7-11fb-4031-be0b-7e336deeebe8\", \"kbest.joblib\", 718)"
            ],
            "text/plain": [
              "<IPython.core.display.Javascript object>"
            ]
          },
          "metadata": {
            "tags": []
          }
        }
      ]
    }
  ]
}