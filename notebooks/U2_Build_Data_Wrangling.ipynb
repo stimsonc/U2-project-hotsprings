{
  "nbformat": 4,
  "nbformat_minor": 0,
  "metadata": {
    "kernelspec": {
      "display_name": "Python 3",
      "language": "python",
      "name": "python3"
    },
    "language_info": {
      "codemirror_mode": {
        "name": "ipython",
        "version": 3
      },
      "file_extension": ".py",
      "mimetype": "text/x-python",
      "name": "python",
      "nbconvert_exporter": "python",
      "pygments_lexer": "ipython3",
      "version": "3.7.6"
    },
    "colab": {
      "name": "U2_Build_Data_Wrangling.ipynb",
      "provenance": [],
      "collapsed_sections": []
    }
  },
  "cells": [
    {
      "cell_type": "code",
      "metadata": {
        "id": "Cu7-iaqqAXpa"
      },
      "source": [
        "import geopy\n",
        "import pandas as pd\n",
        "from math import radians, cos, sin, asin, sqrt\n",
        "from google.colab import files"
      ],
      "execution_count": null,
      "outputs": []
    },
    {
      "cell_type": "markdown",
      "metadata": {
        "id": "rQpGtUdEe_NB"
      },
      "source": [
        "**Step 1.** Obtain dataset of swimmable (<110F) springs that includes spring temp, county name, latitude, longitude"
      ]
    },
    {
      "cell_type": "code",
      "metadata": {
        "id": "Jl-iIV66E51f"
      },
      "source": [
        "# Load thermal springs dataset\n",
        "file = '/content/NCEI-thermal-springs.csv'\n",
        "springs = pd.read_csv(file)"
      ],
      "execution_count": null,
      "outputs": []
    },
    {
      "cell_type": "code",
      "metadata": {
        "id": "KaAJq86RGF0i"
      },
      "source": [
        "# Get all string temperature rows \n",
        "H_rows = springs[springs['Max_surface_temp_F'] == 'H']\n",
        "W_rows = springs[springs['Max_surface_temp_F'] == 'W']\n",
        "B_rows = springs[springs['Max_surface_temp_F'] == 'B']\n",
        "\n",
        "# Get only numeric temperature rows and convert to float\n",
        "num_rows = springs[springs['Max_surface_temp_F'] != 'H'] \n",
        "num_rows = num_rows[num_rows['Max_surface_temp_F'] != 'W']\n",
        "num_rows = num_rows[num_rows['Max_surface_temp_F'] != 'B']\n",
        "num_rows = num_rows.drop([102, 1102]) # Random null rows\n",
        "num_rows['Max_surface_temp_F'] = num_rows['Max_surface_temp_F'].astype(float)\n",
        "\n",
        "# Convert W/H rows to integer values (W=25percentile of num_rows, H=50percentile) \n",
        "W_rows['Max_surface_temp_F'] = 79\n",
        "H_rows['Max_surface_temp_F'] = 102\n",
        "\n",
        "# Eliminate un-swimmable \n",
        "num_rows = num_rows[num_rows['Max_surface_temp_F'] <= 110]\n",
        "\n",
        "# Gather all swimmable springs together\n",
        "swimmers = pd.concat([num_rows, W_rows, H_rows], ignore_index=True)\n",
        "\n",
        "# Remove Alaska and Hawaii\n",
        "swimmers = swimmers[(swimmers['State'] != 'AK') & (swimmers['State'] != 'HI')]\n",
        "\n",
        "# Drop unnecessary columns to leave only: Latitude, Longitude, Temp\n",
        "swimmers.drop(columns=['State', 'Spring_name', 'Max_surface_temp_C', 'PP492', 'USGS_Circ_790', 'NOAA', 'AMS_map', 'USGS_quadrangle'], inplace=True)\n",
        "\n",
        "# Reset index\n",
        "swimmers = swimmers.reset_index(drop=True)"
      ],
      "execution_count": null,
      "outputs": []
    },
    {
      "cell_type": "code",
      "metadata": {
        "id": "lOkuM2OMUHxa"
      },
      "source": [
        "# Get county names for springs\n",
        "def get_location(df, geolocator, lat_field, lon_field):\n",
        "    location = geolocator.reverse((df[lat_field], df[lon_field]))\n",
        "    return location.raw\n",
        "\n",
        "geolocator = geopy.Nominatim(user_agent='my-application')\n",
        "locations = swimmers.apply(get_location, axis=1, geolocator=geolocator, lat_field='Latitude', lon_field='Longitude')"
      ],
      "execution_count": null,
      "outputs": []
    },
    {
      "cell_type": "code",
      "metadata": {
        "id": "st5ZBRRJ_sSC"
      },
      "source": [
        "# Get series of counties\n",
        "locations_df = pd.DataFrame(locations.tolist())\n",
        "locations_address = pd.DataFrame(locations_df['address'].tolist())\n",
        "counties_only = locations_address['county']\n",
        "\n",
        "# Add counties to swimmers df\n",
        "swimmers['county'] = counties_only"
      ],
      "execution_count": null,
      "outputs": []
    },
    {
      "cell_type": "code",
      "metadata": {
        "id": "1qOIhO_ra-lk"
      },
      "source": [
        "swimmers.head()"
      ],
      "execution_count": null,
      "outputs": []
    },
    {
      "cell_type": "code",
      "metadata": {
        "colab": {
          "base_uri": "https://localhost:8080/",
          "height": 17
        },
        "id": "z43n6QIkLUsv",
        "outputId": "7667545d-00a0-4179-8fdc-e18ce2dc8e6b"
      },
      "source": [
        "# Save this dataframe as CSV so I don't have to go through the time-consuming geolocation step each time.\n",
        "swimmers.to_csv('swimmers.csv')\n",
        "files.download('swimmers.csv') "
      ],
      "execution_count": null,
      "outputs": [
        {
          "output_type": "display_data",
          "data": {
            "application/javascript": [
              "\n",
              "    async function download(id, filename, size) {\n",
              "      if (!google.colab.kernel.accessAllowed) {\n",
              "        return;\n",
              "      }\n",
              "      const div = document.createElement('div');\n",
              "      const label = document.createElement('label');\n",
              "      label.textContent = `Downloading \"${filename}\": `;\n",
              "      div.appendChild(label);\n",
              "      const progress = document.createElement('progress');\n",
              "      progress.max = size;\n",
              "      div.appendChild(progress);\n",
              "      document.body.appendChild(div);\n",
              "\n",
              "      const buffers = [];\n",
              "      let downloaded = 0;\n",
              "\n",
              "      const channel = await google.colab.kernel.comms.open(id);\n",
              "      // Send a message to notify the kernel that we're ready.\n",
              "      channel.send({})\n",
              "\n",
              "      for await (const message of channel.messages) {\n",
              "        // Send a message to notify the kernel that we're ready.\n",
              "        channel.send({})\n",
              "        if (message.buffers) {\n",
              "          for (const buffer of message.buffers) {\n",
              "            buffers.push(buffer);\n",
              "            downloaded += buffer.byteLength;\n",
              "            progress.value = downloaded;\n",
              "          }\n",
              "        }\n",
              "      }\n",
              "      const blob = new Blob(buffers, {type: 'application/binary'});\n",
              "      const a = document.createElement('a');\n",
              "      a.href = window.URL.createObjectURL(blob);\n",
              "      a.download = filename;\n",
              "      div.appendChild(a);\n",
              "      a.click();\n",
              "      div.remove();\n",
              "    }\n",
              "  "
            ],
            "text/plain": [
              "<IPython.core.display.Javascript object>"
            ]
          },
          "metadata": {
            "tags": []
          }
        },
        {
          "output_type": "display_data",
          "data": {
            "application/javascript": [
              "download(\"download_244f2c3a-c1b8-4217-b35e-61fd9d07cc49\", \"swimmers.csv\", 43454)"
            ],
            "text/plain": [
              "<IPython.core.display.Javascript object>"
            ]
          },
          "metadata": {
            "tags": []
          }
        }
      ]
    },
    {
      "cell_type": "markdown",
      "metadata": {
        "id": "198LHEr9fToV"
      },
      "source": [
        "**Step 2.** Obtain census data by county that includes latitude/longitude of each county"
      ]
    },
    {
      "cell_type": "code",
      "metadata": {
        "id": "5vl5L9LQHTVH"
      },
      "source": [
        "# Load swimmable thermal springs dataset\n",
        "file = '/content/swimmers.csv'\n",
        "swimmers = pd.read_csv(file)\n",
        "swimmers.reset_index(inplace=True)\n",
        "swimmers.drop(columns=['index', 'Unnamed: 0'], inplace=True)"
      ],
      "execution_count": null,
      "outputs": []
    },
    {
      "cell_type": "code",
      "metadata": {
        "id": "SCZQZSUnO_rv"
      },
      "source": [
        "# Load census dataset\n",
        "file = '/content/2017_census_county.csv'\n",
        "census = pd.read_csv(file)\n",
        "\n",
        "# Remove Alaska, Hawaii, Puerto Rico\n",
        "census = census[(census['State'] != 'Alaska') & \n",
        "                (census['State'] != 'Hawaii') &\n",
        "                (census['State'] != 'Puerto Rico')]"
      ],
      "execution_count": null,
      "outputs": []
    },
    {
      "cell_type": "code",
      "metadata": {
        "id": "foJid5kSZoIq"
      },
      "source": [
        "# Load county name - lat/long data\n",
        "file = '/content/county_lat_long.csv'\n",
        "county_lat_long = pd.read_csv(file)\n",
        "\n",
        "# Remove Alaska and Hawaii\n",
        "county_lat_long = county_lat_long[(county_lat_long['State'] != 'AK') & \n",
        "                                  (county_lat_long['State'] != 'HI')]\n",
        "# Rename FIPS column to CountyId\n",
        "county_lat_long = county_lat_long.rename(columns={'FIPS': 'CountyId'})\n",
        "# Drop unnecessary columns\n",
        "county_lat_long.drop(columns=['State', 'County'], inplace=True)\n",
        "county_lat_long"
      ],
      "execution_count": null,
      "outputs": []
    },
    {
      "cell_type": "code",
      "metadata": {
        "id": "BpXMb8lI_sZI"
      },
      "source": [
        "# Add lat/long data to census dataframe\n",
        "census = pd.merge(census, county_lat_long, how='inner', on=['CountyId'])\n",
        "census = census.set_index('CountyId')"
      ],
      "execution_count": null,
      "outputs": []
    },
    {
      "cell_type": "markdown",
      "metadata": {
        "id": "xF2Fm-GCfsfr"
      },
      "source": [
        "Step 3. Create target columns in census dataframe for (1) counties with and without swimmable springs, (2) numerical distance to closest spring, (3) categorical distance to closest spring"
      ]
    },
    {
      "cell_type": "code",
      "metadata": {
        "id": "9DQweDJLbHbt",
        "colab": {
          "base_uri": "https://localhost:8080/"
        },
        "outputId": "262a919e-85ac-4d87-ce32-aa16c2517e9e"
      },
      "source": [
        "# Target 1: True or False if a county has a swimmable spring\n",
        "\n",
        "# Obtain list of counties with swimmable springs\n",
        "county_list = swimmers['county'].tolist()\n",
        "# Add column for whether a county has a spring or not\n",
        "census['has_spring'] = census['County'].isin(county_list)\n",
        "\n",
        "# Show percentages of targets (spring: 17.6%, No spring: 82.4%)\n",
        "census['has_spring'].value_counts()"
      ],
      "execution_count": null,
      "outputs": [
        {
          "output_type": "execute_result",
          "data": {
            "text/plain": [
              "False    2562\n",
              "True      546\n",
              "Name: has_spring, dtype: int64"
            ]
          },
          "metadata": {
            "tags": []
          },
          "execution_count": 17
        }
      ]
    },
    {
      "cell_type": "code",
      "metadata": {
        "id": "2S5tZVJDbHgG"
      },
      "source": [
        "# Target 2: Distance from county to nearest spring\n",
        "\n",
        "# Create list of all spring coordinates\n",
        "lat_list = swimmers['Latitude'].to_list()\n",
        "lon_list = swimmers['Longitude'].to_list()\n",
        "coordinates_zip = zip(lat_list, lon_list)\n",
        "spring_coordinates = list(coordinates_zip)\n",
        "\n",
        "# Create new census column with county lat-lon coordinates\n",
        "census['coordinates'] = list(zip(census.Latitude, census.Longitude))"
      ],
      "execution_count": null,
      "outputs": []
    },
    {
      "cell_type": "code",
      "metadata": {
        "id": "duW7DexiILf8"
      },
      "source": [
        "# Function to calculate distance between two points on Earth\n",
        "# Takes for two sets of (lat, lon), returns result in miles\n",
        "def distance(county, spring):\n",
        "    # Converts from degrees to radians.\n",
        "    lon1 = radians(county[1])\n",
        "    lon2 = radians(spring[1])\n",
        "    lat1 = radians(county[0])\n",
        "    lat2 = radians(spring[0])\n",
        "    # Haversine formula \n",
        "    dlon = lon2 - lon1 \n",
        "    dlat = lat2 - lat1\n",
        "    a = sin(dlat / 2)**2 + cos(lat1) * cos(lat2) * sin(dlon / 2)**2\n",
        "    c = 2 * asin(sqrt(a)) \n",
        "    # Radius of earth in miles\n",
        "    r = 3956\n",
        "    # calculate the result\n",
        "    return (c * r)\n",
        "\n",
        "# Takes coordinates for 1 county and all springs (list), returns number of miles to closest spring in list\n",
        "def find_min_distance(county_coordinates, spring_coordinates):\n",
        "  min = 10000000\n",
        "  for spring in spring_coordinates:\n",
        "    dist = distance(county_coordinates, spring) \n",
        "    if dist < min:\n",
        "      min = dist\n",
        "  return round(min)"
      ],
      "execution_count": null,
      "outputs": []
    },
    {
      "cell_type": "code",
      "metadata": {
        "id": "pUXXBuNZILiO",
        "colab": {
          "base_uri": "https://localhost:8080/"
        },
        "outputId": "25a4168d-e6ed-4ede-c98f-8e586d12b2fb"
      },
      "source": [
        "# Get closest spring for each county (as measured from county centroid)\n",
        "closest_springs = []\n",
        "for row in range(len(census)):\n",
        "  closest_springs.append(\n",
        "      find_min_distance(census.iloc[row]['coordinates'], spring_coordinates))\n",
        "\n",
        "census['closest_spring'] = closest_springs"
      ],
      "execution_count": null,
      "outputs": [
        {
          "output_type": "execute_result",
          "data": {
            "text/plain": [
              "194.82625482625483"
            ]
          },
          "metadata": {
            "tags": []
          },
          "execution_count": 22
        }
      ]
    },
    {
      "cell_type": "code",
      "metadata": {
        "colab": {
          "base_uri": "https://localhost:8080/"
        },
        "id": "a3DjUWZDlnQY",
        "outputId": "aa16ab29-af2f-4de1-dedd-b72eb81288d9"
      },
      "source": [
        "# Mean absolute error\n",
        "from sklearn.metrics import mean_absolute_error\n",
        "pred = census['closest_spring'].mean()\n",
        "print('mean closest spring', pred)\n",
        "error_total = 0\n",
        "for i in range(len(census)):\n",
        "  error_total += abs(census.iloc[i]['closest_spring'] - pred)\n",
        "mae = error_total / (len(census))\n",
        "print('mean absolute error', mae)"
      ],
      "execution_count": null,
      "outputs": [
        {
          "output_type": "stream",
          "text": [
            "mean closest spring 194.82625482625483\n",
            "mean absolute error 112.13938373011828\n"
          ],
          "name": "stdout"
        }
      ]
    },
    {
      "cell_type": "code",
      "metadata": {
        "colab": {
          "base_uri": "https://localhost:8080/"
        },
        "id": "B4Bx9nSxILkM",
        "outputId": "f6da5786-78fa-44c9-d851-b8e07ff105f6"
      },
      "source": [
        "# Target 3: Springs distance categories as <20mi, 20-50mi, >50mi\n",
        "census['to_spring_cat'] = 0\n",
        "census.loc[(census['closest_spring'] <= 20), 'to_spring_cat'] = '<20 mi'\n",
        "census.loc[(census['closest_spring'] > 20) & (census['closest_spring'] <= 50), 'to_spring_cat'] = '20-50 mi'\n",
        "census.loc[(census['closest_spring'] > 50), 'to_spring_cat'] = '>50 mi'\n",
        "\n",
        "census['to_spring_cat'].value_counts(normalize=True)\n",
        "# Baseline accuracy: 84% (always choosing >50mi)"
      ],
      "execution_count": null,
      "outputs": [
        {
          "output_type": "execute_result",
          "data": {
            "text/plain": [
              ">50 mi      0.846847\n",
              "20-50 mi    0.089125\n",
              "<20 mi      0.064028\n",
              "Name: to_spring_cat, dtype: float64"
            ]
          },
          "metadata": {
            "tags": []
          },
          "execution_count": 47
        }
      ]
    },
    {
      "cell_type": "code",
      "metadata": {
        "colab": {
          "base_uri": "https://localhost:8080/",
          "height": 17
        },
        "id": "OEDZh_mIILoW",
        "outputId": "402afc28-86f5-4ed5-f52e-82eeb88b9769"
      },
      "source": [
        "# Save final census dataframe as CSV to speed up future work.\n",
        "census.to_csv('census.csv')\n",
        "files.download('census.csv') "
      ],
      "execution_count": null,
      "outputs": [
        {
          "output_type": "display_data",
          "data": {
            "application/javascript": [
              "\n",
              "    async function download(id, filename, size) {\n",
              "      if (!google.colab.kernel.accessAllowed) {\n",
              "        return;\n",
              "      }\n",
              "      const div = document.createElement('div');\n",
              "      const label = document.createElement('label');\n",
              "      label.textContent = `Downloading \"${filename}\": `;\n",
              "      div.appendChild(label);\n",
              "      const progress = document.createElement('progress');\n",
              "      progress.max = size;\n",
              "      div.appendChild(progress);\n",
              "      document.body.appendChild(div);\n",
              "\n",
              "      const buffers = [];\n",
              "      let downloaded = 0;\n",
              "\n",
              "      const channel = await google.colab.kernel.comms.open(id);\n",
              "      // Send a message to notify the kernel that we're ready.\n",
              "      channel.send({})\n",
              "\n",
              "      for await (const message of channel.messages) {\n",
              "        // Send a message to notify the kernel that we're ready.\n",
              "        channel.send({})\n",
              "        if (message.buffers) {\n",
              "          for (const buffer of message.buffers) {\n",
              "            buffers.push(buffer);\n",
              "            downloaded += buffer.byteLength;\n",
              "            progress.value = downloaded;\n",
              "          }\n",
              "        }\n",
              "      }\n",
              "      const blob = new Blob(buffers, {type: 'application/binary'});\n",
              "      const a = document.createElement('a');\n",
              "      a.href = window.URL.createObjectURL(blob);\n",
              "      a.download = filename;\n",
              "      div.appendChild(a);\n",
              "      a.click();\n",
              "      div.remove();\n",
              "    }\n",
              "  "
            ],
            "text/plain": [
              "<IPython.core.display.Javascript object>"
            ]
          },
          "metadata": {
            "tags": []
          }
        },
        {
          "output_type": "display_data",
          "data": {
            "application/javascript": [
              "download(\"download_9769cb5c-ca3f-483e-a798-51775728bbaf\", \"census.csv\", 821553)"
            ],
            "text/plain": [
              "<IPython.core.display.Javascript object>"
            ]
          },
          "metadata": {
            "tags": []
          }
        }
      ]
    }
  ]
}