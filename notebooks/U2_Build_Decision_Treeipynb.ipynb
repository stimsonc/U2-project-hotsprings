{
  "nbformat": 4,
  "nbformat_minor": 0,
  "metadata": {
    "colab": {
      "name": "U2_Build_Decision_Treeipynb",
      "provenance": [],
      "collapsed_sections": []
    },
    "kernelspec": {
      "display_name": "Python 3",
      "language": "python",
      "name": "python3"
    },
    "language_info": {
      "codemirror_mode": {
        "name": "ipython",
        "version": 3
      },
      "file_extension": ".py",
      "mimetype": "text/x-python",
      "name": "python",
      "nbconvert_exporter": "python",
      "pygments_lexer": "ipython3",
      "version": "3.7.6"
    }
  },
  "cells": [
    {
      "cell_type": "code",
      "metadata": {
        "id": "HKC0Tj9j21v5",
        "colab": {
          "base_uri": "https://localhost:8080/"
        },
        "outputId": "333f7409-31f6-4ecb-dac5-a1a9dd544ee9"
      },
      "source": [
        "!pip install eli5"
      ],
      "execution_count": null,
      "outputs": [
        {
          "output_type": "stream",
          "text": [
            "Collecting eli5\n",
            "\u001b[?25l  Downloading https://files.pythonhosted.org/packages/d1/54/04cab6e1c0ae535bec93f795d8403fdf6caf66fa5a6512263202dbb14ea6/eli5-0.11.0-py2.py3-none-any.whl (106kB)\n",
            "\r\u001b[K     |███                             | 10kB 14.8MB/s eta 0:00:01\r\u001b[K     |██████▏                         | 20kB 9.9MB/s eta 0:00:01\r\u001b[K     |█████████▎                      | 30kB 5.3MB/s eta 0:00:01\r\u001b[K     |████████████▍                   | 40kB 5.1MB/s eta 0:00:01\r\u001b[K     |███████████████▌                | 51kB 2.8MB/s eta 0:00:01\r\u001b[K     |██████████████████▌             | 61kB 3.3MB/s eta 0:00:01\r\u001b[K     |█████████████████████▋          | 71kB 3.4MB/s eta 0:00:01\r\u001b[K     |████████████████████████▊       | 81kB 3.5MB/s eta 0:00:01\r\u001b[K     |███████████████████████████▉    | 92kB 3.6MB/s eta 0:00:01\r\u001b[K     |███████████████████████████████ | 102kB 3.8MB/s eta 0:00:01\r\u001b[K     |████████████████████████████████| 112kB 3.8MB/s \n",
            "\u001b[?25hRequirement already satisfied: jinja2 in /usr/local/lib/python3.7/dist-packages (from eli5) (2.11.3)\n",
            "Requirement already satisfied: tabulate>=0.7.7 in /usr/local/lib/python3.7/dist-packages (from eli5) (0.8.9)\n",
            "Requirement already satisfied: six in /usr/local/lib/python3.7/dist-packages (from eli5) (1.15.0)\n",
            "Requirement already satisfied: attrs>16.0.0 in /usr/local/lib/python3.7/dist-packages (from eli5) (20.3.0)\n",
            "Requirement already satisfied: scikit-learn>=0.20 in /usr/local/lib/python3.7/dist-packages (from eli5) (0.22.2.post1)\n",
            "Requirement already satisfied: graphviz in /usr/local/lib/python3.7/dist-packages (from eli5) (0.10.1)\n",
            "Requirement already satisfied: scipy in /usr/local/lib/python3.7/dist-packages (from eli5) (1.4.1)\n",
            "Requirement already satisfied: numpy>=1.9.0 in /usr/local/lib/python3.7/dist-packages (from eli5) (1.19.5)\n",
            "Requirement already satisfied: MarkupSafe>=0.23 in /usr/local/lib/python3.7/dist-packages (from jinja2->eli5) (1.1.1)\n",
            "Requirement already satisfied: joblib>=0.11 in /usr/local/lib/python3.7/dist-packages (from scikit-learn>=0.20->eli5) (1.0.1)\n",
            "Installing collected packages: eli5\n",
            "Successfully installed eli5-0.11.0\n"
          ],
          "name": "stdout"
        }
      ]
    },
    {
      "cell_type": "code",
      "metadata": {
        "id": "Cu7-iaqqAXpa"
      },
      "source": [
        "import pandas as pd\n",
        "import numpy as np\n",
        "import matplotlib.pyplot as plt\n",
        "import plotly.graph_objects as go\n",
        "import eli5\n",
        "from eli5.sklearn import PermutationImportance\n",
        "from sklearn.model_selection import train_test_split\n",
        "from joblib import dump\n",
        "from google.colab import files\n",
        "from sklearn.metrics import mean_squared_error, r2_score, mean_absolute_error, confusion_matrix, accuracy_score, roc_curve, auc, precision_score, recall_score\n",
        "from sklearn.pipeline import make_pipeline\n",
        "from sklearn.preprocessing import StandardScaler\n",
        "from sklearn.tree import DecisionTreeClassifier\n",
        "from sklearn.utils import resample\n",
        "from sklearn.model_selection import RandomizedSearchCV"
      ],
      "execution_count": null,
      "outputs": []
    },
    {
      "cell_type": "markdown",
      "metadata": {
        "id": "1_nNOkTS5202"
      },
      "source": [
        "**Step 1.** Load dataset\n",
        "\n",
        "Note: The 'census.csv' file was created using [U2_Build_Data_Wrangling.ipynb](https://colab.research.google.com/drive/1N_smUCm3c5zPi4yUCYwDkZpK2kq-FtJF?usp=sharing)."
      ]
    },
    {
      "cell_type": "code",
      "metadata": {
        "id": "Jl-iIV66E51f"
      },
      "source": [
        "# Load census dataset\n",
        "file = '/content/census.csv'\n",
        "census = pd.read_csv(file)"
      ],
      "execution_count": null,
      "outputs": []
    },
    {
      "cell_type": "markdown",
      "metadata": {
        "id": "In2HGXGfo15W"
      },
      "source": [
        "Step 2: Feature engineering\n"
      ]
    },
    {
      "cell_type": "code",
      "metadata": {
        "id": "2S5tZVJDbHgG"
      },
      "source": [
        "# Total minority population of county (%)\n",
        "census['Minority_pop'] = (census['Black'] + census['Hispanic'] + census['Asian'] + census['Native'] + census['Pacific'])"
      ],
      "execution_count": null,
      "outputs": []
    },
    {
      "cell_type": "markdown",
      "metadata": {
        "id": "tepAt42zKHhj"
      },
      "source": [
        "Step 3: Decision Tree model\n"
      ]
    },
    {
      "cell_type": "code",
      "metadata": {
        "id": "kzt42HDw0QdZ"
      },
      "source": [
        "# Upsample to_spring_cat, train-val-test split\n",
        "# Majority class (>50 mi) has 2632 samples\n",
        "# Separate majority and minority classes\n",
        "census_majority = census[census['to_spring_cat'] == '>50 mi']\n",
        "census_minority1 = census[census['to_spring_cat'] == '<20 mi']\n",
        "census_minority2 = census[census['to_spring_cat'] == '20-50 mi']\n",
        "\n",
        "# Upsample minority class 1\n",
        "census_minority_upsampled1 = resample(census_minority1,\n",
        "                                     replace=True, # Sample with replacement\n",
        "                                     n_samples=2632, # Match majority class\n",
        "                                     random_state=42)\n",
        "# Upsample minority class 2\n",
        "census_minority_upsampled2 = resample(census_minority2,\n",
        "                                     replace=True, # Sample with replacement\n",
        "                                     n_samples=2632, # Match majority class\n",
        "                                     random_state=42)\n",
        "\n",
        "# Combine majority class with upsampled minority class\n",
        "census_upsampled = pd.concat([census_majority, census_minority_upsampled1, census_minority_upsampled2])\n",
        "\n",
        "# Train-Validation-Test split for to_spring_cat (classification)\n",
        "target = 'to_spring_cat'\n",
        "features = census.columns.drop([target, 'CountyId', 'closest_spring', 'has_spring', 'State', 'County', 'coordinates', 'Latitude', 'Longitude'])\n",
        "\n",
        "X = census_upsampled[features]\n",
        "y = census_upsampled[target]\n",
        "\n",
        "# Split off test set\n",
        "X_train, X_test, y_train, y_test = train_test_split(X, y, test_size=0.2, random_state=1)\n",
        "# Split off validation set\n",
        "X_train, X_val, y_train, y_val = train_test_split(X_train, y_train, test_size=0.25, random_state=1)"
      ],
      "execution_count": null,
      "outputs": []
    },
    {
      "cell_type": "code",
      "metadata": {
        "colab": {
          "base_uri": "https://localhost:8080/"
        },
        "id": "2sENd2hrfxfK",
        "outputId": "8210b1e3-6564-442f-e859-0e0f05fe0945"
      },
      "source": [
        "# Decision tree model\n",
        "dectree_model = make_pipeline(StandardScaler(), DecisionTreeClassifier(max_depth=13))\n",
        "dectree_model.fit(X_train, y_train)"
      ],
      "execution_count": null,
      "outputs": [
        {
          "output_type": "execute_result",
          "data": {
            "text/plain": [
              "Pipeline(memory=None,\n",
              "         steps=[('standardscaler',\n",
              "                 StandardScaler(copy=True, with_mean=True, with_std=True)),\n",
              "                ('decisiontreeclassifier',\n",
              "                 DecisionTreeClassifier(ccp_alpha=0.0, class_weight=None,\n",
              "                                        criterion='gini', max_depth=13,\n",
              "                                        max_features=None, max_leaf_nodes=None,\n",
              "                                        min_impurity_decrease=0.0,\n",
              "                                        min_impurity_split=None,\n",
              "                                        min_samples_leaf=1, min_samples_split=2,\n",
              "                                        min_weight_fraction_leaf=0.0,\n",
              "                                        presort='deprecated', random_state=None,\n",
              "                                        splitter='best'))],\n",
              "         verbose=False)"
            ]
          },
          "metadata": {
            "tags": []
          },
          "execution_count": 66
        }
      ]
    },
    {
      "cell_type": "code",
      "metadata": {
        "colab": {
          "base_uri": "https://localhost:8080/"
        },
        "id": "PLdgNXeILJgM",
        "outputId": "be67d950-3b35-47f8-ab91-ec8a4d7c3847"
      },
      "source": [
        "# Upsampled data (validation set): score, confusion matrix, precision/recall\n",
        "print(f'Validation set score: {dectree_model.score(X_val, y_val)}')\n",
        "print(f'Test set score: {dectree_model.score(X_test, y_test)}')\n",
        "y_pred = dectree_model.predict(X_val)\n",
        "print(confusion_matrix(y_val, y_pred))\n",
        "print('<20 mi')\n",
        "precision = precision_score(y_val, y_pred, labels=['<20 mi'], average='weighted')\n",
        "print('Precision: %.3f' % precision)\n",
        "recall = recall_score(y_val, y_pred, labels=['<20 mi'], average='weighted')\n",
        "print('Recall: %.3f' % recall)\n",
        "print('20-50 mi')\n",
        "precision = precision_score(y_val, y_pred, labels=['20-50 mi'], average='weighted')\n",
        "print('Precision: %.3f' % precision)\n",
        "recall = recall_score(y_val, y_pred, labels=['20-50 mi'], average='weighted')\n",
        "print('Recall: %.3f' % recall)\n",
        "print('>50 mi')\n",
        "precision = precision_score(y_val, y_pred, labels=['>50 mi'], average='weighted')\n",
        "print('Precision: %.3f' % precision)\n",
        "recall = recall_score(y_val, y_pred, labels=['>50 mi'], average='weighted')\n",
        "print('Recall: %.3f' % recall)"
      ],
      "execution_count": null,
      "outputs": [
        {
          "output_type": "stream",
          "text": [
            "Validation set score: 0.9341355288157062\n",
            "Test set score: 0.9316455696202531\n",
            "[[521   2   0]\n",
            " [  2 509   4]\n",
            " [ 61  35 445]]\n",
            "<20 mi\n",
            "Precision: 0.932\n",
            "Recall: 0.988\n",
            "20-50 mi\n",
            "Precision: 0.892\n",
            "Recall: 0.996\n",
            ">50 mi\n",
            "Precision: 0.991\n",
            "Recall: 0.823\n"
          ],
          "name": "stdout"
        }
      ]
    },
    {
      "cell_type": "code",
      "metadata": {
        "colab": {
          "base_uri": "https://localhost:8080/"
        },
        "id": "xGglSvHRNMG8",
        "outputId": "ac3d1787-5469-448f-a71a-0ac71a9f0913"
      },
      "source": [
        "# Non-upsampled data (all data): score, confusion matrix, precision/recall\n",
        "print(f'Score: {dectree_model.score(census[features], census[target])}')\n",
        "y_pred = dectree_model.predict(census[features])\n",
        "print(confusion_matrix(census[target], y_pred))\n",
        "print('<20 mi')\n",
        "precision = precision_score(census[target], y_pred, labels=['<20 mi'], average='weighted')\n",
        "print('Precision: %.3f' % precision)\n",
        "recall = recall_score(census[target], y_pred, labels=['<20 mi'], average='weighted')\n",
        "print('Recall: %.3f' % recall)\n",
        "print('20-50 mi')\n",
        "precision = precision_score(census[target], y_pred, labels=['20-50 mi'], average='weighted')\n",
        "print('Precision: %.3f' % precision)\n",
        "recall = recall_score(census[target], y_pred, labels=['20-50 mi'], average='weighted')\n",
        "print('Recall: %.3f' % recall)\n",
        "print('>50 mi')\n",
        "precision = precision_score(census[target], y_pred, labels=['>50 mi'], average='weighted')\n",
        "print('Precision: %.3f' % precision)\n",
        "recall = recall_score(census[target], y_pred, labels=['>50 mi'], average='weighted')\n",
        "print('Recall: %.3f' % recall)"
      ],
      "execution_count": null,
      "outputs": [
        {
          "output_type": "stream",
          "text": [
            "Score: 0.9140926640926641\n",
            "[[ 276    1    0]\n",
            " [   1  197    1]\n",
            " [ 162  102 2368]]\n",
            "<20 mi\n",
            "Precision: 0.657\n",
            "Recall: 0.990\n",
            "20-50 mi\n",
            "Precision: 0.629\n",
            "Recall: 0.996\n",
            ">50 mi\n",
            "Precision: 1.000\n",
            "Recall: 0.900\n"
          ],
          "name": "stdout"
        }
      ]
    },
    {
      "cell_type": "markdown",
      "metadata": {
        "id": "QMvvPAsLKXiw"
      },
      "source": [
        "Step 6: Feature permutation"
      ]
    },
    {
      "cell_type": "code",
      "metadata": {
        "id": "MhLDiTQX9C3E",
        "colab": {
          "base_uri": "https://localhost:8080/",
          "height": 225
        },
        "outputId": "88be9e64-b7f5-4b2d-8a2d-fce25c8295ce"
      },
      "source": [
        "# Feature permutation \n",
        "transformers = make_pipeline(StandardScaler())\n",
        "X_train_transformed = transformers.fit_transform(X_train)\n",
        "X_val_transformed = transformers.transform(X_val)\n",
        "\n",
        "model = DecisionTreeClassifier(max_depth=13)\n",
        "model.fit(X_train_transformed, y_train)\n",
        "\n",
        "permuter = PermutationImportance(\n",
        "    model, \n",
        "    scoring='accuracy',\n",
        "    n_iter=5,\n",
        "    random_state=91)\n",
        "\n",
        "permuter.fit(X_val_transformed, y_val)\n",
        "\n",
        "# Show top N feature importances by weight\n",
        "top=10\n",
        "feature_names = X_val.columns.tolist()\n",
        "pd.Series(permuter.feature_importances_, feature_names).sort_values()\n",
        "eli5.show_weights(permuter,top=top,feature_names=feature_names)"
      ],
      "execution_count": null,
      "outputs": [
        {
          "output_type": "execute_result",
          "data": {
            "text/html": [
              "\n",
              "    <style>\n",
              "    table.eli5-weights tr:hover {\n",
              "        filter: brightness(85%);\n",
              "    }\n",
              "</style>\n",
              "\n",
              "\n",
              "\n",
              "    \n",
              "\n",
              "    \n",
              "\n",
              "    \n",
              "\n",
              "    \n",
              "\n",
              "    \n",
              "\n",
              "    \n",
              "\n",
              "\n",
              "    \n",
              "\n",
              "    \n",
              "\n",
              "    \n",
              "\n",
              "    \n",
              "\n",
              "    \n",
              "\n",
              "    \n",
              "\n",
              "\n",
              "    \n",
              "\n",
              "    \n",
              "\n",
              "    \n",
              "\n",
              "    \n",
              "\n",
              "    \n",
              "        <table class=\"eli5-weights eli5-feature-importances\" style=\"border-collapse: collapse; border: none; margin-top: 0em; table-layout: auto;\">\n",
              "    <thead>\n",
              "    <tr style=\"border: none;\">\n",
              "        <th style=\"padding: 0 1em 0 0.5em; text-align: right; border: none;\">Weight</th>\n",
              "        <th style=\"padding: 0 0.5em 0 0.5em; text-align: left; border: none;\">Feature</th>\n",
              "    </tr>\n",
              "    </thead>\n",
              "    <tbody>\n",
              "    \n",
              "        <tr style=\"background-color: hsl(120, 100.00%, 80.00%); border: none;\">\n",
              "            <td style=\"padding: 0 1em 0 0.5em; text-align: right; border: none;\">\n",
              "                0.2806\n",
              "                \n",
              "                    &plusmn; 0.0077\n",
              "                \n",
              "            </td>\n",
              "            <td style=\"padding: 0 0.5em 0 0.5em; text-align: left; border: none;\">\n",
              "                Drive\n",
              "            </td>\n",
              "        </tr>\n",
              "    \n",
              "        <tr style=\"background-color: hsl(120, 100.00%, 84.40%); border: none;\">\n",
              "            <td style=\"padding: 0 1em 0 0.5em; text-align: right; border: none;\">\n",
              "                0.1967\n",
              "                \n",
              "                    &plusmn; 0.0149\n",
              "                \n",
              "            </td>\n",
              "            <td style=\"padding: 0 0.5em 0 0.5em; text-align: left; border: none;\">\n",
              "                Hispanic\n",
              "            </td>\n",
              "        </tr>\n",
              "    \n",
              "        <tr style=\"background-color: hsl(120, 100.00%, 84.54%); border: none;\">\n",
              "            <td style=\"padding: 0 1em 0 0.5em; text-align: right; border: none;\">\n",
              "                0.1942\n",
              "                \n",
              "                    &plusmn; 0.0172\n",
              "                \n",
              "            </td>\n",
              "            <td style=\"padding: 0 0.5em 0 0.5em; text-align: left; border: none;\">\n",
              "                Black\n",
              "            </td>\n",
              "        </tr>\n",
              "    \n",
              "        <tr style=\"background-color: hsl(120, 100.00%, 86.85%); border: none;\">\n",
              "            <td style=\"padding: 0 1em 0 0.5em; text-align: right; border: none;\">\n",
              "                0.1541\n",
              "                \n",
              "                    &plusmn; 0.0186\n",
              "                \n",
              "            </td>\n",
              "            <td style=\"padding: 0 0.5em 0 0.5em; text-align: left; border: none;\">\n",
              "                PublicWork\n",
              "            </td>\n",
              "        </tr>\n",
              "    \n",
              "        <tr style=\"background-color: hsl(120, 100.00%, 87.00%); border: none;\">\n",
              "            <td style=\"padding: 0 1em 0 0.5em; text-align: right; border: none;\">\n",
              "                0.1516\n",
              "                \n",
              "                    &plusmn; 0.0079\n",
              "                \n",
              "            </td>\n",
              "            <td style=\"padding: 0 0.5em 0 0.5em; text-align: left; border: none;\">\n",
              "                MeanCommute\n",
              "            </td>\n",
              "        </tr>\n",
              "    \n",
              "        <tr style=\"background-color: hsl(120, 100.00%, 88.57%); border: none;\">\n",
              "            <td style=\"padding: 0 1em 0 0.5em; text-align: right; border: none;\">\n",
              "                0.1262\n",
              "                \n",
              "                    &plusmn; 0.0142\n",
              "                \n",
              "            </td>\n",
              "            <td style=\"padding: 0 0.5em 0 0.5em; text-align: left; border: none;\">\n",
              "                IncomePerCap\n",
              "            </td>\n",
              "        </tr>\n",
              "    \n",
              "        <tr style=\"background-color: hsl(120, 100.00%, 91.71%); border: none;\">\n",
              "            <td style=\"padding: 0 1em 0 0.5em; text-align: right; border: none;\">\n",
              "                0.0798\n",
              "                \n",
              "                    &plusmn; 0.0118\n",
              "                \n",
              "            </td>\n",
              "            <td style=\"padding: 0 0.5em 0 0.5em; text-align: left; border: none;\">\n",
              "                OtherTransp\n",
              "            </td>\n",
              "        </tr>\n",
              "    \n",
              "        <tr style=\"background-color: hsl(120, 100.00%, 91.97%); border: none;\">\n",
              "            <td style=\"padding: 0 1em 0 0.5em; text-align: right; border: none;\">\n",
              "                0.0761\n",
              "                \n",
              "                    &plusmn; 0.0091\n",
              "                \n",
              "            </td>\n",
              "            <td style=\"padding: 0 0.5em 0 0.5em; text-align: left; border: none;\">\n",
              "                ChildPoverty\n",
              "            </td>\n",
              "        </tr>\n",
              "    \n",
              "        <tr style=\"background-color: hsl(120, 100.00%, 92.39%); border: none;\">\n",
              "            <td style=\"padding: 0 1em 0 0.5em; text-align: right; border: none;\">\n",
              "                0.0706\n",
              "                \n",
              "                    &plusmn; 0.0078\n",
              "                \n",
              "            </td>\n",
              "            <td style=\"padding: 0 0.5em 0 0.5em; text-align: left; border: none;\">\n",
              "                WorkAtHome\n",
              "            </td>\n",
              "        </tr>\n",
              "    \n",
              "        <tr style=\"background-color: hsl(120, 100.00%, 92.51%); border: none;\">\n",
              "            <td style=\"padding: 0 1em 0 0.5em; text-align: right; border: none;\">\n",
              "                0.0690\n",
              "                \n",
              "                    &plusmn; 0.0056\n",
              "                \n",
              "            </td>\n",
              "            <td style=\"padding: 0 0.5em 0 0.5em; text-align: left; border: none;\">\n",
              "                Construction\n",
              "            </td>\n",
              "        </tr>\n",
              "    \n",
              "    \n",
              "        \n",
              "            <tr style=\"background-color: hsl(120, 100.00%, 92.51%); border: none;\">\n",
              "                <td colspan=\"2\" style=\"padding: 0 0.5em 0 0.5em; text-align: center; border: none; white-space: nowrap;\">\n",
              "                    <i>&hellip; 25 more &hellip;</i>\n",
              "                </td>\n",
              "            </tr>\n",
              "        \n",
              "    \n",
              "    </tbody>\n",
              "</table>\n",
              "    \n",
              "\n",
              "    \n",
              "\n",
              "\n",
              "    \n",
              "\n",
              "    \n",
              "\n",
              "    \n",
              "\n",
              "    \n",
              "\n",
              "    \n",
              "\n",
              "    \n",
              "\n",
              "\n",
              "\n"
            ],
            "text/plain": [
              "<IPython.core.display.HTML object>"
            ]
          },
          "metadata": {
            "tags": []
          },
          "execution_count": 67
        }
      ]
    },
    {
      "cell_type": "code",
      "metadata": {
        "colab": {
          "base_uri": "https://localhost:8080/"
        },
        "id": "XUuGNm6GUNra",
        "outputId": "95a58fb6-b421-40bf-f8e6-041536574b72"
      },
      "source": [
        "# Remove features under certain importance level\n",
        "min_importance = 0.1485\n",
        "mask = permuter.feature_importances_ > min_importance\n",
        "features = X_train.columns[mask]\n",
        "\n",
        "# New train, val\n",
        "X_train_drop_bad_features = X_train[features]\n",
        "X_val_drop_bad_features = X_val[features]\n",
        "X_test_drop_bad_features = X_test[features]\n",
        "\n",
        "# Fit new decision tree and get score\n",
        "dectree_model_permuted = make_pipeline(StandardScaler(), DecisionTreeClassifier(max_depth=13))\n",
        "dectree_model_permuted.fit(X_train_drop_bad_features, y_train)\n",
        "print(f'Validation set core: {dectree_model_permuted.score(X_val_drop_bad_features, y_val)}')\n",
        "print(f'Test set score: {dectree_model_permuted.score(X_test_drop_bad_features, y_test)}')\n",
        "list(features)"
      ],
      "execution_count": null,
      "outputs": [
        {
          "output_type": "stream",
          "text": [
            "Validation set core: 0.9081697276757441\n",
            "Test set score: 0.9050632911392406\n"
          ],
          "name": "stdout"
        },
        {
          "output_type": "execute_result",
          "data": {
            "text/plain": [
              "['Hispanic', 'Black', 'Drive', 'MeanCommute', 'PublicWork']"
            ]
          },
          "metadata": {
            "tags": []
          },
          "execution_count": 71
        }
      ]
    },
    {
      "cell_type": "code",
      "metadata": {
        "id": "WW8CptT-9uFz",
        "colab": {
          "base_uri": "https://localhost:8080/",
          "height": 331
        },
        "outputId": "ec9d8bef-5fe9-4d7b-d3b3-1890cd388f2c"
      },
      "source": [
        "# Confusion matrix after permutation (validation set)\n",
        "y_pred = dectree_model_permuted.predict(X_val_drop_bad_features)\n",
        "labels = ['<20 mi', '20-50 mi', '>50 mi']\n",
        "cm = confusion_matrix(y_val, y_pred, labels)\n",
        "print(cm)\n",
        "fig = plt.figure()\n",
        "ax = fig.add_subplot(111)\n",
        "cax = ax.matshow(cm)\n",
        "fig.colorbar(cax)\n",
        "ax.set_xticklabels([''] + labels)\n",
        "ax.set_yticklabels([''] + labels)\n",
        "plt.xlabel('Predicted')\n",
        "plt.ylabel('True')\n",
        "plt.show()"
      ],
      "execution_count": null,
      "outputs": [
        {
          "output_type": "stream",
          "text": [
            "[[500  11   4]\n",
            " [  8 512   3]\n",
            " [ 33  86 422]]\n"
          ],
          "name": "stdout"
        },
        {
          "output_type": "display_data",
          "data": {
            "image/png": "[encoded data removed]",
            "text/plain": [
              "<Figure size 432x288 with 2 Axes>"
            ]
          },
          "metadata": {
            "tags": [],
            "needs_background": "light"
          }
        }
      ]
    },
    {
      "cell_type": "markdown",
      "metadata": {
        "id": "NoE0ULq9Spuv"
      },
      "source": [
        "Step 7: Parameter search"
      ]
    },
    {
      "cell_type": "code",
      "metadata": {
        "id": "6VOhf641Pss6"
      },
      "source": [
        "# Parameter grid to search\n",
        "# Number of features to consider at every split\n",
        "max_features = ['auto', 'sqrt']\n",
        "# Maximum number of levels in tree\n",
        "max_depth = [int(x) for x in np.linspace(10, 110, num = 11)]\n",
        "max_depth.append(None)\n",
        "# Minimum number of samples required to split a node\n",
        "min_samples_split = [2, 5, 10]\n",
        "# Minimum number of samples required at each leaf node\n",
        "min_samples_leaf = [1, 2, 4]\n",
        "# Create the random grid\n",
        "random_grid = {'max_features': max_features,\n",
        "               'max_depth': max_depth,\n",
        "               'min_samples_split': min_samples_split,\n",
        "               'min_samples_leaf': min_samples_leaf}"
      ],
      "execution_count": null,
      "outputs": []
    },
    {
      "cell_type": "code",
      "metadata": {
        "colab": {
          "base_uri": "https://localhost:8080/"
        },
        "id": "qsk6AtwPQMeG",
        "outputId": "9413ed0f-138c-4298-be91-e264f555609d"
      },
      "source": [
        "# Random grid to search for best hyperparameters\n",
        "# 5-fold cross validation, search across 80 different combinations, use all available cores\n",
        "dc = DecisionTreeClassifier()\n",
        "dc_random = RandomizedSearchCV(estimator = dc, param_distributions = random_grid, n_iter = 80, cv = 5, verbose=2, random_state=42, n_jobs = -1)\n",
        "dc_random.fit(X_train_drop_bad_features, y_train)\n",
        "dc_random.best_params_"
      ],
      "execution_count": null,
      "outputs": [
        {
          "output_type": "stream",
          "text": [
            "Fitting 5 folds for each of 80 candidates, totalling 400 fits\n"
          ],
          "name": "stdout"
        },
        {
          "output_type": "stream",
          "text": [
            "[Parallel(n_jobs=-1)]: Using backend LokyBackend with 2 concurrent workers.\n",
            "[Parallel(n_jobs=-1)]: Done 228 tasks      | elapsed:    2.7s\n",
            "[Parallel(n_jobs=-1)]: Done 400 out of 400 | elapsed:    4.7s finished\n"
          ],
          "name": "stderr"
        },
        {
          "output_type": "execute_result",
          "data": {
            "text/plain": [
              "{'max_depth': 80,\n",
              " 'max_features': 'sqrt',\n",
              " 'min_samples_leaf': 1,\n",
              " 'min_samples_split': 2}"
            ]
          },
          "metadata": {
            "tags": []
          },
          "execution_count": 78
        }
      ]
    },
    {
      "cell_type": "code",
      "metadata": {
        "colab": {
          "base_uri": "https://localhost:8080/"
        },
        "id": "0OR9YmqVRF44",
        "outputId": "82ca234a-ac45-4113-e30e-748478bb87b5"
      },
      "source": [
        "# Decision Tree with feature permutation and parameter selection ** Using non-upsampled data ** \n",
        "dectree_model_best_params = make_pipeline(StandardScaler(), \n",
        "                                          DecisionTreeClassifier(max_depth=20,max_features='sqrt',min_samples_leaf=1,min_samples_split=2))\n",
        "\n",
        "X = census[features]\n",
        "y = census[target]\n",
        "X_train, X_test, y_train, y_test = train_test_split(X, y, test_size=0.2, random_state=1)\n",
        "\n",
        "dectree_model_best_params.fit(X_train, y_train)\n",
        "print(f'Test set score: {dectree_model_best_params.score(X_test, y_test)}')"
      ],
      "execution_count": null,
      "outputs": [
        {
          "output_type": "stream",
          "text": [
            "Test set score: 0.7572347266881029\n"
          ],
          "name": "stdout"
        }
      ]
    },
    {
      "cell_type": "code",
      "metadata": {
        "colab": {
          "base_uri": "https://localhost:8080/"
        },
        "id": "Z8nAeMRQALWX",
        "outputId": "4afee094-af43-49d1-d4c4-32ddded50370"
      },
      "source": [
        "# Confusion matrix on whole dataset (not upsampled)\n",
        "y_pred = dectree_model_best_params.predict(X)\n",
        "y_prob = dectree_model_best_params.predict_proba(X)\n",
        "print(confusion_matrix(y, y_pred))"
      ],
      "execution_count": null,
      "outputs": [
        {
          "output_type": "stream",
          "text": [
            "[[ 232    9   36]\n",
            " [   9  160   30]\n",
            " [  35   20 2577]]\n"
          ],
          "name": "stdout"
        }
      ]
    },
    {
      "cell_type": "code",
      "metadata": {
        "colab": {
          "base_uri": "https://localhost:8080/"
        },
        "id": "tO0Je9zoQ9FH",
        "outputId": "343ca258-be39-437c-e25c-7515809d9350"
      },
      "source": [
        "# Precision and Recall on whole dataset (not upsampled)\n",
        "print('<20 mi')\n",
        "precision = precision_score(y, y_pred, labels=['<20 mi'], average='weighted')\n",
        "print('Precision: %.3f' % precision)\n",
        "recall = recall_score(y, y_pred, labels=['<20 mi'], average='weighted')\n",
        "print('Recall: %.3f' % recall)\n",
        "print('20-50 mi')\n",
        "precision = precision_score(y, y_pred, labels=['20-50 mi'], average='weighted')\n",
        "print('Precision: %.3f' % precision)\n",
        "recall = recall_score(y, y_pred, labels=['20-50 mi'], average='weighted')\n",
        "print('Recall: %.3f' % recall)\n",
        "print('>50 mi')\n",
        "precision = precision_score(y, y_pred, labels=['>50 mi'], average='weighted')\n",
        "print('Precision: %.3f' % precision)\n",
        "recall = recall_score(y, y_pred, labels=['>50 mi'], average='weighted')\n",
        "print('Recall: %.3f' % recall)"
      ],
      "execution_count": null,
      "outputs": [
        {
          "output_type": "stream",
          "text": [
            "<20 mi\n",
            "Precision: 0.847\n",
            "Recall: 0.804\n",
            "20-50 mi\n",
            "Precision: 0.841\n",
            "Recall: 0.838\n",
            ">50 mi\n",
            "Precision: 0.975\n",
            "Recall: 0.979\n"
          ],
          "name": "stdout"
        }
      ]
    },
    {
      "cell_type": "code",
      "metadata": {
        "colab": {
          "base_uri": "https://localhost:8080/"
        },
        "id": "WJRTNo76qmxN",
        "outputId": "74d3057a-320e-40b8-8a7e-4b8a490f7a45"
      },
      "source": [
        "# Specific prediction\n",
        "n=245\n",
        "test = np.array(X_test.iloc[n])\n",
        "test = test.reshape((1,-1))\n",
        "y_pred = dectree_model_best_params.predict(test)[0]\n",
        "print('Prediction:', y_pred)\n",
        "y_prob = dectree_model_best_params.predict_proba(test)[0]\n",
        "print('Probability:', max(y_prob))\n",
        "print('Actual:', y_test.iloc[n])"
      ],
      "execution_count": null,
      "outputs": [
        {
          "output_type": "stream",
          "text": [
            "Prediction: <20 mi\n",
            "Probability: 1.0\n",
            "Actual: <20 mi\n"
          ],
          "name": "stdout"
        }
      ]
    },
    {
      "cell_type": "markdown",
      "metadata": {
        "id": "qNGT5hX8O4JJ"
      },
      "source": [
        "Step 8: Create df with releavant features, lat/lon, results for display on dash app"
      ]
    },
    {
      "cell_type": "code",
      "metadata": {
        "id": "jT5JLhVpBWEj"
      },
      "source": [
        "# Small df with only features, target, results \n",
        "def wrangle(df, model):\n",
        "  # Columns to include from original dataframe\n",
        "  cols = ['Hispanic', 'Drive', 'MeanCommute', 'Black', 'PublicWork', 'Longitude', 'Latitude', 'to_spring_cat']\n",
        "  # Columns used in model\n",
        "  X = df[['Hispanic', 'Black', 'Drive', 'MeanCommute', 'PublicWork']]\n",
        "\n",
        "  # Predictions\n",
        "  y_pred = model.predict(X)\n",
        "  # Maximum probabilty for each prediction\n",
        "  y_prob = model.predict_proba(X)\n",
        "  probs = []\n",
        "  for i in range(len(y_prob)):\n",
        "    probs.append(max(y_prob[i]))\n",
        "  \n",
        "  new = df[cols]\n",
        "  # Add predictions\n",
        "  new['Prediction'] = y_pred\n",
        "  # Add column of preciction = correct/wrong\n",
        "  correct = new['to_spring_cat'] == new['Prediction']\n",
        "  new['Correct'] = correct\n",
        "  # Add probabilities\n",
        "  new['Probability'] = probs\n",
        "  # Rename target variable column\n",
        "  new.rename(columns={\"to_spring_cat\": \"True\"}, inplace=True)\n",
        "  return new\n",
        "\n",
        "wrangle_df = census.copy()\n",
        "dash_df = wrangle(wrangle_df, dectree_model_best_params)"
      ],
      "execution_count": null,
      "outputs": []
    },
    {
      "cell_type": "code",
      "metadata": {
        "colab": {
          "base_uri": "https://localhost:8080/",
          "height": 542
        },
        "id": "mtgDkKGi4EQ8",
        "outputId": "8d3748a7-af7f-45e9-e2bb-d33c26e006ec"
      },
      "source": [
        "# Display random sample of dash_df\n",
        "\n",
        "n=12\n",
        "sample = dash_df.sample(n=n)\n",
        "\n",
        "fig = go.Figure(data=[go.Table(\n",
        "    header=dict(values=list(sample.columns),\n",
        "                fill_color='paleturquoise',\n",
        "                align='left'),\n",
        "    cells=dict(values=[sample.Hispanic, sample.Drive, sample.MeanCommute, sample.Black, sample.PublicWork, sample.Longitude, sample.Latitude, sample['True'], sample.Prediction, sample.Correct, sample.Probability],\n",
        "               fill_color='lavender',\n",
        "               align='left'))\n",
        "])\n",
        "fig.show()"
      ],
      "execution_count": null,
      "outputs": [
        {
          "output_type": "display_data",
          "data": {
            "text/html": [
              "<html>\n",
              "<head><meta charset=\"utf-8\" /></head>\n",
              "<body>\n",
              "    <div>\n",
              "            <script src=\"https://cdnjs.cloudflare.com/ajax/libs/mathjax/2.7.5/MathJax.js?config=TeX-AMS-MML_SVG\"></script><script type=\"text/javascript\">if (window.MathJax) {MathJax.Hub.Config({SVG: {font: \"STIX-Web\"}});}</script>\n",
              "                <script type=\"text/javascript\">window.PlotlyConfig = {MathJaxConfig: 'local'};</script>\n",
              "        <script src=\"https://cdn.plot.ly/plotly-latest.min.js\"></script>    \n",
              "            <div id=\"eb5097c4-07f5-4b46-8fb8-ca7a64fc4e6e\" class=\"plotly-graph-div\" style=\"height:525px; width:100%;\"></div>\n",
              "            <script type=\"text/javascript\">\n",
              "                \n",
              "                    window.PLOTLYENV=window.PLOTLYENV || {};\n",
              "                    \n",
              "                if (document.getElementById(\"eb5097c4-07f5-4b46-8fb8-ca7a64fc4e6e\")) {\n",
              "                    Plotly.newPlot(\n",
              "                        'eb5097c4-07f5-4b46-8fb8-ca7a64fc4e6e',\n",
              "                        [{\"cells\": {\"align\": \"left\", \"fill\": {\"color\": \"lavender\"}, \"values\": [[1.0, 2.5, 4.6, 63.6, 1.8, 1.5, 3.2, 8.8, 8.3, 1.3, 4.6, 0.3], [80.2, 84.7, 79.9, 78.0, 85.1, 78.6, 82.8, 83.1, 86.0, 83.6, 82.9, 75.8], [31.9, 32.1, 22.7, 22.5, 27.2, 26.0, 15.8, 23.6, 20.4, 23.5, 21.6, 20.6], [0.0, 30.0, 2.2, 1.3, 0.5, 0.9, 0.7, 4.5, 0.8, 2.7, 39.5, 3.3], [17.2, 13.6, 17.7, 15.9, 11.0, 13.0, 16.8, 9.6, 14.5, 12.0, 25.0, 16.9], [-81.354502, -89.943105, -84.949552, -118.780542, -85.260541, -93.500227, -98.685052, -82.365835, -98.687267, -86.62654, -83.628567, -83.681046], [38.743033, 34.649553000000004, 35.600587, 36.230453, 39.10023, 39.427375, 37.222906, 27.184386, 33.616305, 38.081436, 31.718232, 36.72268], [\">50 mi\", \">50 mi\", \">50 mi\", \"<20 mi\", \">50 mi\", \">50 mi\", \">50 mi\", \"<20 mi\", \">50 mi\", \">50 mi\", \">50 mi\", \">50 mi\"], [\">50 mi\", \">50 mi\", \">50 mi\", \"<20 mi\", \">50 mi\", \">50 mi\", \">50 mi\", \"<20 mi\", \">50 mi\", \"<20 mi\", \">50 mi\", \">50 mi\"], [true, true, true, true, true, true, true, true, true, false, true, true], [1.0, 1.0, 1.0, 1.0, 1.0, 1.0, 1.0, 1.0, 1.0, 1.0, 1.0, 1.0]]}, \"header\": {\"align\": \"left\", \"fill\": {\"color\": \"paleturquoise\"}, \"values\": [\"Hispanic\", \"Drive\", \"MeanCommute\", \"Black\", \"PublicWork\", \"Longitude\", \"Latitude\", \"True\", \"Prediction\", \"Correct\", \"Probability\"]}, \"type\": \"table\"}],\n",
              "                        {\"template\": {\"data\": {\"bar\": [{\"error_x\": {\"color\": \"#2a3f5f\"}, \"error_y\": {\"color\": \"#2a3f5f\"}, \"marker\": {\"line\": {\"color\": \"#E5ECF6\", \"width\": 0.5}}, \"type\": \"bar\"}], \"barpolar\": [{\"marker\": {\"line\": {\"color\": \"#E5ECF6\", \"width\": 0.5}}, \"type\": \"barpolar\"}], \"carpet\": [{\"aaxis\": {\"endlinecolor\": \"#2a3f5f\", \"gridcolor\": \"white\", \"linecolor\": \"white\", \"minorgridcolor\": \"white\", \"startlinecolor\": \"#2a3f5f\"}, \"baxis\": {\"endlinecolor\": \"#2a3f5f\", \"gridcolor\": \"white\", \"linecolor\": \"white\", \"minorgridcolor\": \"white\", \"startlinecolor\": \"#2a3f5f\"}, \"type\": \"carpet\"}], \"choropleth\": [{\"colorbar\": {\"outlinewidth\": 0, \"ticks\": \"\"}, \"type\": \"choropleth\"}], \"contour\": [{\"colorbar\": {\"outlinewidth\": 0, \"ticks\": \"\"}, \"colorscale\": [[0.0, \"#0d0887\"], [0.1111111111111111, \"#46039f\"], [0.2222222222222222, \"#7201a8\"], [0.3333333333333333, \"#9c179e\"], [0.4444444444444444, \"#bd3786\"], [0.5555555555555556, \"#d8576b\"], [0.6666666666666666, \"#ed7953\"], [0.7777777777777778, \"#fb9f3a\"], [0.8888888888888888, \"#fdca26\"], [1.0, \"#f0f921\"]], \"type\": \"contour\"}], \"contourcarpet\": [{\"colorbar\": {\"outlinewidth\": 0, \"ticks\": \"\"}, \"type\": \"contourcarpet\"}], \"heatmap\": [{\"colorbar\": {\"outlinewidth\": 0, \"ticks\": \"\"}, \"colorscale\": [[0.0, \"#0d0887\"], [0.1111111111111111, \"#46039f\"], [0.2222222222222222, \"#7201a8\"], [0.3333333333333333, \"#9c179e\"], [0.4444444444444444, \"#bd3786\"], [0.5555555555555556, \"#d8576b\"], [0.6666666666666666, \"#ed7953\"], [0.7777777777777778, \"#fb9f3a\"], [0.8888888888888888, \"#fdca26\"], [1.0, \"#f0f921\"]], \"type\": \"heatmap\"}], \"heatmapgl\": [{\"colorbar\": {\"outlinewidth\": 0, \"ticks\": \"\"}, \"colorscale\": [[0.0, \"#0d0887\"], [0.1111111111111111, \"#46039f\"], [0.2222222222222222, \"#7201a8\"], [0.3333333333333333, \"#9c179e\"], [0.4444444444444444, \"#bd3786\"], [0.5555555555555556, \"#d8576b\"], [0.6666666666666666, \"#ed7953\"], [0.7777777777777778, \"#fb9f3a\"], [0.8888888888888888, \"#fdca26\"], [1.0, \"#f0f921\"]], \"type\": \"heatmapgl\"}], \"histogram\": [{\"marker\": {\"colorbar\": {\"outlinewidth\": 0, \"ticks\": \"\"}}, \"type\": \"histogram\"}], \"histogram2d\": [{\"colorbar\": {\"outlinewidth\": 0, \"ticks\": \"\"}, \"colorscale\": [[0.0, \"#0d0887\"], [0.1111111111111111, \"#46039f\"], [0.2222222222222222, \"#7201a8\"], [0.3333333333333333, \"#9c179e\"], [0.4444444444444444, \"#bd3786\"], [0.5555555555555556, \"#d8576b\"], [0.6666666666666666, \"#ed7953\"], [0.7777777777777778, \"#fb9f3a\"], [0.8888888888888888, \"#fdca26\"], [1.0, \"#f0f921\"]], \"type\": \"histogram2d\"}], \"histogram2dcontour\": [{\"colorbar\": {\"outlinewidth\": 0, \"ticks\": \"\"}, \"colorscale\": [[0.0, \"#0d0887\"], [0.1111111111111111, \"#46039f\"], [0.2222222222222222, \"#7201a8\"], [0.3333333333333333, \"#9c179e\"], [0.4444444444444444, \"#bd3786\"], [0.5555555555555556, \"#d8576b\"], [0.6666666666666666, \"#ed7953\"], [0.7777777777777778, \"#fb9f3a\"], [0.8888888888888888, \"#fdca26\"], [1.0, \"#f0f921\"]], \"type\": \"histogram2dcontour\"}], \"mesh3d\": [{\"colorbar\": {\"outlinewidth\": 0, \"ticks\": \"\"}, \"type\": \"mesh3d\"}], \"parcoords\": [{\"line\": {\"colorbar\": {\"outlinewidth\": 0, \"ticks\": \"\"}}, \"type\": \"parcoords\"}], \"pie\": [{\"automargin\": true, \"type\": \"pie\"}], \"scatter\": [{\"marker\": {\"colorbar\": {\"outlinewidth\": 0, \"ticks\": \"\"}}, \"type\": \"scatter\"}], \"scatter3d\": [{\"line\": {\"colorbar\": {\"outlinewidth\": 0, \"ticks\": \"\"}}, \"marker\": {\"colorbar\": {\"outlinewidth\": 0, \"ticks\": \"\"}}, \"type\": \"scatter3d\"}], \"scattercarpet\": [{\"marker\": {\"colorbar\": {\"outlinewidth\": 0, \"ticks\": \"\"}}, \"type\": \"scattercarpet\"}], \"scattergeo\": [{\"marker\": {\"colorbar\": {\"outlinewidth\": 0, \"ticks\": \"\"}}, \"type\": \"scattergeo\"}], \"scattergl\": [{\"marker\": {\"colorbar\": {\"outlinewidth\": 0, \"ticks\": \"\"}}, \"type\": \"scattergl\"}], \"scattermapbox\": [{\"marker\": {\"colorbar\": {\"outlinewidth\": 0, \"ticks\": \"\"}}, \"type\": \"scattermapbox\"}], \"scatterpolar\": [{\"marker\": {\"colorbar\": {\"outlinewidth\": 0, \"ticks\": \"\"}}, \"type\": \"scatterpolar\"}], \"scatterpolargl\": [{\"marker\": {\"colorbar\": {\"outlinewidth\": 0, \"ticks\": \"\"}}, \"type\": \"scatterpolargl\"}], \"scatterternary\": [{\"marker\": {\"colorbar\": {\"outlinewidth\": 0, \"ticks\": \"\"}}, \"type\": \"scatterternary\"}], \"surface\": [{\"colorbar\": {\"outlinewidth\": 0, \"ticks\": \"\"}, \"colorscale\": [[0.0, \"#0d0887\"], [0.1111111111111111, \"#46039f\"], [0.2222222222222222, \"#7201a8\"], [0.3333333333333333, \"#9c179e\"], [0.4444444444444444, \"#bd3786\"], [0.5555555555555556, \"#d8576b\"], [0.6666666666666666, \"#ed7953\"], [0.7777777777777778, \"#fb9f3a\"], [0.8888888888888888, \"#fdca26\"], [1.0, \"#f0f921\"]], \"type\": \"surface\"}], \"table\": [{\"cells\": {\"fill\": {\"color\": \"#EBF0F8\"}, \"line\": {\"color\": \"white\"}}, \"header\": {\"fill\": {\"color\": \"#C8D4E3\"}, \"line\": {\"color\": \"white\"}}, \"type\": \"table\"}]}, \"layout\": {\"annotationdefaults\": {\"arrowcolor\": \"#2a3f5f\", \"arrowhead\": 0, \"arrowwidth\": 1}, \"coloraxis\": {\"colorbar\": {\"outlinewidth\": 0, \"ticks\": \"\"}}, \"colorscale\": {\"diverging\": [[0, \"#8e0152\"], [0.1, \"#c51b7d\"], [0.2, \"#de77ae\"], [0.3, \"#f1b6da\"], [0.4, \"#fde0ef\"], [0.5, \"#f7f7f7\"], [0.6, \"#e6f5d0\"], [0.7, \"#b8e186\"], [0.8, \"#7fbc41\"], [0.9, \"#4d9221\"], [1, \"#276419\"]], \"sequential\": [[0.0, \"#0d0887\"], [0.1111111111111111, \"#46039f\"], [0.2222222222222222, \"#7201a8\"], [0.3333333333333333, \"#9c179e\"], [0.4444444444444444, \"#bd3786\"], [0.5555555555555556, \"#d8576b\"], [0.6666666666666666, \"#ed7953\"], [0.7777777777777778, \"#fb9f3a\"], [0.8888888888888888, \"#fdca26\"], [1.0, \"#f0f921\"]], \"sequentialminus\": [[0.0, \"#0d0887\"], [0.1111111111111111, \"#46039f\"], [0.2222222222222222, \"#7201a8\"], [0.3333333333333333, \"#9c179e\"], [0.4444444444444444, \"#bd3786\"], [0.5555555555555556, \"#d8576b\"], [0.6666666666666666, \"#ed7953\"], [0.7777777777777778, \"#fb9f3a\"], [0.8888888888888888, \"#fdca26\"], [1.0, \"#f0f921\"]]}, \"colorway\": [\"#636efa\", \"#EF553B\", \"#00cc96\", \"#ab63fa\", \"#FFA15A\", \"#19d3f3\", \"#FF6692\", \"#B6E880\", \"#FF97FF\", \"#FECB52\"], \"font\": {\"color\": \"#2a3f5f\"}, \"geo\": {\"bgcolor\": \"white\", \"lakecolor\": \"white\", \"landcolor\": \"#E5ECF6\", \"showlakes\": true, \"showland\": true, \"subunitcolor\": \"white\"}, \"hoverlabel\": {\"align\": \"left\"}, \"hovermode\": \"closest\", \"mapbox\": {\"style\": \"light\"}, \"paper_bgcolor\": \"white\", \"plot_bgcolor\": \"#E5ECF6\", \"polar\": {\"angularaxis\": {\"gridcolor\": \"white\", \"linecolor\": \"white\", \"ticks\": \"\"}, \"bgcolor\": \"#E5ECF6\", \"radialaxis\": {\"gridcolor\": \"white\", \"linecolor\": \"white\", \"ticks\": \"\"}}, \"scene\": {\"xaxis\": {\"backgroundcolor\": \"#E5ECF6\", \"gridcolor\": \"white\", \"gridwidth\": 2, \"linecolor\": \"white\", \"showbackground\": true, \"ticks\": \"\", \"zerolinecolor\": \"white\"}, \"yaxis\": {\"backgroundcolor\": \"#E5ECF6\", \"gridcolor\": \"white\", \"gridwidth\": 2, \"linecolor\": \"white\", \"showbackground\": true, \"ticks\": \"\", \"zerolinecolor\": \"white\"}, \"zaxis\": {\"backgroundcolor\": \"#E5ECF6\", \"gridcolor\": \"white\", \"gridwidth\": 2, \"linecolor\": \"white\", \"showbackground\": true, \"ticks\": \"\", \"zerolinecolor\": \"white\"}}, \"shapedefaults\": {\"line\": {\"color\": \"#2a3f5f\"}}, \"ternary\": {\"aaxis\": {\"gridcolor\": \"white\", \"linecolor\": \"white\", \"ticks\": \"\"}, \"baxis\": {\"gridcolor\": \"white\", \"linecolor\": \"white\", \"ticks\": \"\"}, \"bgcolor\": \"#E5ECF6\", \"caxis\": {\"gridcolor\": \"white\", \"linecolor\": \"white\", \"ticks\": \"\"}}, \"title\": {\"x\": 0.05}, \"xaxis\": {\"automargin\": true, \"gridcolor\": \"white\", \"linecolor\": \"white\", \"ticks\": \"\", \"title\": {\"standoff\": 15}, \"zerolinecolor\": \"white\", \"zerolinewidth\": 2}, \"yaxis\": {\"automargin\": true, \"gridcolor\": \"white\", \"linecolor\": \"white\", \"ticks\": \"\", \"title\": {\"standoff\": 15}, \"zerolinecolor\": \"white\", \"zerolinewidth\": 2}}}},\n",
              "                        {\"responsive\": true}\n",
              "                    ).then(function(){\n",
              "                            \n",
              "var gd = document.getElementById('eb5097c4-07f5-4b46-8fb8-ca7a64fc4e6e');\n",
              "var x = new MutationObserver(function (mutations, observer) {{\n",
              "        var display = window.getComputedStyle(gd).display;\n",
              "        if (!display || display === 'none') {{\n",
              "            console.log([gd, 'removed!']);\n",
              "            Plotly.purge(gd);\n",
              "            observer.disconnect();\n",
              "        }}\n",
              "}});\n",
              "\n",
              "// Listen for the removal of the full notebook cells\n",
              "var notebookContainer = gd.closest('#notebook-container');\n",
              "if (notebookContainer) {{\n",
              "    x.observe(notebookContainer, {childList: true});\n",
              "}}\n",
              "\n",
              "// Listen for the clearing of the current output cell\n",
              "var outputEl = gd.closest('.output');\n",
              "if (outputEl) {{\n",
              "    x.observe(outputEl, {childList: true});\n",
              "}}\n",
              "\n",
              "                        })\n",
              "                };\n",
              "                \n",
              "            </script>\n",
              "        </div>\n",
              "</body>\n",
              "</html>"
            ]
          },
          "metadata": {
            "tags": []
          }
        }
      ]
    },
    {
      "cell_type": "markdown",
      "metadata": {
        "id": "Ej6dE7o3Q9OM"
      },
      "source": [
        "Step 9: Explore right and wrong predictions"
      ]
    },
    {
      "cell_type": "code",
      "metadata": {
        "id": "Fyw5Hnv5C-rm",
        "colab": {
          "base_uri": "https://localhost:8080/",
          "height": 286
        },
        "outputId": "3280351e-8b71-490e-a53c-365646e91d17"
      },
      "source": [
        "# Only wrong predictions\n",
        "wrong = dash_df[dash_df['Correct']==False]\n",
        "# Only right predictions\n",
        "right = dash_df[dash_df['Correct']==True]\n",
        "\n",
        "plt.scatter(right['Longitude'], right['Latitude'])\n",
        "plt.scatter(wrong['Longitude'], wrong['Latitude'])"
      ],
      "execution_count": null,
      "outputs": [
        {
          "output_type": "execute_result",
          "data": {
            "text/plain": [
              "<matplotlib.collections.PathCollection at 0x7ff3d44b9610>"
            ]
          },
          "metadata": {
            "tags": []
          },
          "execution_count": 119
        },
        {
          "output_type": "display_data",
          "data": {
            "image/png": "[encoded data removed]",
            "text/plain": [
              "<Figure size 432x288 with 1 Axes>"
            ]
          },
          "metadata": {
            "tags": [],
            "needs_background": "light"
          }
        }
      ]
    },
    {
      "cell_type": "code",
      "metadata": {
        "id": "Ph1q00EEZp5C",
        "colab": {
          "base_uri": "https://localhost:8080/",
          "height": 286
        },
        "outputId": "de497654-c440-4280-830c-0845d96804d9"
      },
      "source": [
        "# Costly predictions: predicting a close spring when none exists\n",
        "bad_wrong = wrong[(wrong['Prediction']=='<20 mi') & (wrong['True']=='>50 mi')]\n",
        "plt.scatter(right['Longitude'], right['Latitude'])\n",
        "plt.scatter(bad_wrong['Longitude'], bad_wrong['Latitude'])\n",
        "bad_wrong.shape"
      ],
      "execution_count": null,
      "outputs": [
        {
          "output_type": "execute_result",
          "data": {
            "text/plain": [
              "(20, 11)"
            ]
          },
          "metadata": {
            "tags": []
          },
          "execution_count": 123
        },
        {
          "output_type": "display_data",
          "data": {
            "image/png": "[encoded data removed]",
            "text/plain": [
              "<Figure size 432x288 with 1 Axes>"
            ]
          },
          "metadata": {
            "tags": [],
            "needs_background": "light"
          }
        }
      ]
    },
    {
      "cell_type": "code",
      "metadata": {
        "id": "1yqRHHkkOMaK",
        "colab": {
          "base_uri": "https://localhost:8080/"
        },
        "outputId": "c5107206-fc3e-403f-a1bf-6e832a157659"
      },
      "source": [
        "wrong['Prediction'].value_counts()"
      ],
      "execution_count": null,
      "outputs": [
        {
          "output_type": "execute_result",
          "data": {
            "text/plain": [
              ">50 mi      66\n",
              "20-50 mi    44\n",
              "<20 mi      29\n",
              "Name: Prediction, dtype: int64"
            ]
          },
          "metadata": {
            "tags": []
          },
          "execution_count": 124
        }
      ]
    },
    {
      "cell_type": "code",
      "metadata": {
        "id": "nF913HICOUkg",
        "colab": {
          "base_uri": "https://localhost:8080/"
        },
        "outputId": "53242e43-ce52-48c2-fa8e-5fc5dab9138d"
      },
      "source": [
        "right['Prediction'].value_counts()"
      ],
      "execution_count": null,
      "outputs": [
        {
          "output_type": "execute_result",
          "data": {
            "text/plain": [
              ">50 mi      2577\n",
              "20-50 mi     232\n",
              "<20 mi       160\n",
              "Name: Prediction, dtype: int64"
            ]
          },
          "metadata": {
            "tags": []
          },
          "execution_count": 125
        }
      ]
    },
    {
      "cell_type": "markdown",
      "metadata": {
        "id": "ecUDAHivrwbT"
      },
      "source": [
        "Step 10: Export model for Dash app"
      ]
    },
    {
      "cell_type": "code",
      "metadata": {
        "id": "Yem7AqmKrfQE",
        "colab": {
          "base_uri": "https://localhost:8080/"
        },
        "outputId": "633dfe75-c8b7-4cfe-bb53-ae54bea4caa7"
      },
      "source": [
        "# Pickle model\n",
        "dump(dectree_model_best_params, 'dectree.joblib', compress=True)"
      ],
      "execution_count": null,
      "outputs": [
        {
          "output_type": "execute_result",
          "data": {
            "text/plain": [
              "['dectree.joblib']"
            ]
          },
          "metadata": {
            "tags": []
          },
          "execution_count": 128
        }
      ]
    },
    {
      "cell_type": "code",
      "metadata": {
        "id": "iWmzyTh6rfSl"
      },
      "source": [
        "files.download('dectree.joblib') "
      ],
      "execution_count": null,
      "outputs": []
    }
  ]
}